{
 "cells": [
  {
   "cell_type": "code",
   "execution_count": 29,
   "metadata": {},
   "outputs": [],
   "source": [
    "import json\n",
    "import random\n",
    "import pandas as pd"
   ]
  },
  {
   "cell_type": "code",
   "execution_count": 20,
   "metadata": {},
   "outputs": [],
   "source": [
    "f = open('instances/tiny.json')\n",
    "j = json.load(f)"
   ]
  },
  {
   "cell_type": "code",
   "execution_count": 21,
   "metadata": {},
   "outputs": [],
   "source": [
    "# get data\n",
    "J = len(j['jobs'])\n",
    "I = len(j['tasks'])\n",
    "weights = [job['weight'] for job in j['jobs']]\n",
    "alpha, beta = 1, 1\n",
    "U = j['parameters']['costs']['unit_penalty']\n",
    "job_due_dates = [job['due_date'] for job in j['jobs']]"
   ]
  },
  {
   "cell_type": "code",
   "execution_count": 22,
   "metadata": {},
   "outputs": [],
   "source": [
    "# generate dummy data\n",
    "completed_jobs_times = []"
   ]
  },
  {
   "cell_type": "code",
   "execution_count": null,
   "metadata": {},
   "outputs": [],
   "source": [
    "tardinesses = [max(0, completed_jobs_times[j] - job_due_dates[j]) for j in range(J)]"
   ]
  },
  {
   "cell_type": "code",
   "execution_count": 27,
   "metadata": {},
   "outputs": [
    {
     "data": {
      "text/plain": [
       "['size', 'costs']"
      ]
     },
     "execution_count": 27,
     "metadata": {},
     "output_type": "execute_result"
    }
   ],
   "source": [
    "solution = [] #f"
   ]
  },
  {
   "cell_type": "code",
   "execution_count": 38,
   "metadata": {},
   "outputs": [],
   "source": [
    "jobs_df = pd.DataFrame(j['jobs'])\n",
    "tasks_df = pd.DataFrame(j['tasks'])"
   ]
  },
  {
   "cell_type": "code",
   "execution_count": 28,
   "metadata": {},
   "outputs": [
    {
     "ename": "IndentationError",
     "evalue": "expected an indented block (3900388172.py, line 2)",
     "output_type": "error",
     "traceback": [
      "\u001b[0;36m  File \u001b[0;32m\"/var/folders/yg/x9721f3x1x32ymx9lck7xw900000gn/T/ipykernel_7463/3900388172.py\"\u001b[0;36m, line \u001b[0;32m2\u001b[0m\n\u001b[0;31m    \u001b[0m\n\u001b[0m    ^\u001b[0m\n\u001b[0;31mIndentationError\u001b[0m\u001b[0;31m:\u001b[0m expected an indented block\n"
     ]
    }
   ],
   "source": [
    "for job in j['jobs']:\n",
    "    all_tasks = j['tasks']\n",
    "    tasks_indexes = job['sequence']\n",
    "\n",
    "    last_task = all_tasks[tasks_indexes[-1]]\n",
    "    last_task_start_time = solution[tasks_indexes[-1]]['start']\n",
    "    last_task_prox_time\n",
    "    job_proc_time = last_task[]    \n",
    "\n",
    "\n",
    "    # for index in tasks_indexes:\n",
    "    #     task = all_tasks[index]\n",
    "    #     proc_time = task['processing_time']\n",
    "    #     start_time = solution[index]['start']\n",
    "\n",
    "    #     end_time = start_time + proc_time\n",
    "    #     job"
   ]
  },
  {
   "cell_type": "code",
   "execution_count": null,
   "metadata": {},
   "outputs": [],
   "source": [
    "## Architecture\n",
    "\n",
    "\n",
    "# 1. On choisit les 1eres taches a lancer"
   ]
  },
  {
   "cell_type": "code",
   "execution_count": null,
   "metadata": {},
   "outputs": [],
   "source": [
    "tasks_en_cours = [\n",
    "    {\n",
    "        'task': 3,\n",
    "        'temps-avant-fin': 2,\n",
    "        'machine': 7,\n",
    "        'operateur': 9\n",
    "        \n",
    "    },\n",
    "]\n",
    "\n",
    "tasks_finies = [1, 2]\n",
    "\n",
    "\n",
    "def update_tasks(task_finies, tasks_en_cours):\n",
    "    for task in tasks_en_cours:\n",
    "        # si elle vas finir, on la mets dans les tasks finies\n",
    "        if task['temps-avant-fin']==1:\n",
    "            task_finies.append(task)\n",
    "            tasks_en_cours.remove(task)\n",
    "\n",
    "        # si elle continue, on met a jour le temps\n",
    "        else:\n",
    "            task['temps-avant-fin'] -= 1\n",
    "\n",
    "        return task_finies, tasks_en_cours\n"
   ]
  },
  {
   "cell_type": "code",
   "execution_count": null,
   "metadata": {},
   "outputs": [],
   "source": [
    "task_to_start = [\n",
    "    {\n",
    "        'task': 2,\n",
    "        'maschine': 7,\n",
    "        'operateur': 10,\n",
    "        \n",
    "    }\n",
    "]"
   ]
  },
  {
   "cell_type": "code",
   "execution_count": null,
   "metadata": {},
   "outputs": [],
   "source": [
    "def write_solution(task_to_start, solution, date):\n",
    "    for task in task_to_start:\n",
    "        task['start'] = date\n",
    "        solution.append(task)"
   ]
  },
  {
   "cell_type": "code",
   "execution_count": null,
   "metadata": {},
   "outputs": [],
   "source": [
    "def select_jobs(tasks_en_cours, jobs, tasks, tete):\n",
    "    tasks_to_start = []\n",
    "\n",
    "    for task_index in tete:\n",
    "        task = tasks[task_index]\n",
    "        # machine libre?\n",
    "        machines_indispo = [task['machine'] for task in tasks_en_cours]\n",
    "        for machine in task['machines']:\n",
    "            if not(machine in machines_indisponible(tasks_en_cours)):\n",
    "\n",
    "                # operateur libre?\n",
    "                operateurs_indispo = [task['operator'] for task in tasks_en_cours]\n",
    "                operateurs_qualifies = operateurs_qualifies(machine)\n",
    "                for operateur in operateurs_qualifies:\n",
    "                    if not(operateur in operateurs_indispo):\n",
    "\n",
    "                        # On a une machine et un operateur qulifie dispo!\n",
    "                        task_to_start = {\n",
    "                            'task': task_index,\n",
    "                            'machine': machine,\n",
    "                            'operator': operateur\n",
    "                        }\n",
    "                        tasks_to_start.append()\n"
   ]
  }
 ],
 "metadata": {
  "kernelspec": {
   "display_name": "Python 3.9.7 ('base')",
   "language": "python",
   "name": "python3"
  },
  "language_info": {
   "codemirror_mode": {
    "name": "ipython",
    "version": 3
   },
   "file_extension": ".py",
   "mimetype": "text/x-python",
   "name": "python",
   "nbconvert_exporter": "python",
   "pygments_lexer": "ipython3",
   "version": "3.9.7"
  },
  "orig_nbformat": 4,
  "vscode": {
   "interpreter": {
    "hash": "44821179211c5035b5d6edd6beab79c9eb9ea6660d25f635822b8685fec8d67a"
   }
  }
 },
 "nbformat": 4,
 "nbformat_minor": 2
}
