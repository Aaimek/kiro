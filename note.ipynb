{
 "cells": [
  {
   "cell_type": "code",
   "execution_count": 12,
   "metadata": {},
   "outputs": [
    {
     "name": "stdout",
     "output_type": "stream",
     "text": [
      "    task  processing_time                                           machines\n",
      "0      1                1        [{'machine': 1, 'operators': [1, 4, 5, 7]}]\n",
      "1      2                1        [{'machine': 6, 'operators': [1, 2, 3, 5]}]\n",
      "2      3                1           [{'machine': 4, 'operators': [1, 4, 7]}]\n",
      "3      4                2  [{'machine': 2, 'operators': [1, 2, 4, 5, 7]},...\n",
      "4      5                1  [{'machine': 2, 'operators': [1, 2, 3, 4, 6, 8...\n",
      "5      6                2  [{'machine': 1, 'operators': [1, 2]}, {'machin...\n",
      "6      7                1     [{'machine': 5, 'operators': [1, 2, 3, 7, 8]}]\n",
      "7      8                1  [{'machine': 4, 'operators': [2]}, {'machine':...\n",
      "8      9                1        [{'machine': 6, 'operators': [1, 2, 4, 8]}]\n",
      "9     10                1           [{'machine': 8, 'operators': [3, 5, 8]}]\n",
      "10    11                2  [{'machine': 1, 'operators': [8]}, {'machine':...\n",
      "11    12                1  [{'machine': 2, 'operators': [2, 3, 4, 7, 8]},...\n",
      "12    13                1  [{'machine': 3, 'operators': [2, 4, 7]}, {'mac...\n",
      "13    14                2  [{'machine': 1, 'operators': [2, 6, 8]}, {'mac...\n",
      "14    15                2  [{'machine': 1, 'operators': [2, 4, 7, 8]}, {'...\n",
      "15    16                1     [{'machine': 5, 'operators': [2, 3, 5, 6, 7]}]\n",
      "16    17                2  [{'machine': 2, 'operators': [5]}, {'machine':...\n",
      "17    18                1  [{'machine': 1, 'operators': [2, 3, 5, 6]}, {'...\n",
      "18    19                1  [{'machine': 1, 'operators': [4, 5, 7]}, {'mac...\n",
      "19    20                2              [{'machine': 1, 'operators': [6, 7]}]\n",
      "20    21                2  [{'machine': 3, 'operators': [8]}, {'machine':...\n",
      "21    22                1  [{'machine': 5, 'operators': [4, 7]}, {'machin...\n",
      "22    23                1  [{'machine': 3, 'operators': [5]}, {'machine':...\n",
      "23    24                1  [{'machine': 2, 'operators': [2, 6]}, {'machin...\n",
      "24    25                1  [{'machine': 5, 'operators': [4, 6, 8]}, {'mac...\n"
     ]
    }
   ],
   "source": [
    "import json\n",
    "import pandas as pd\n",
    "f = open('instances/tiny.json')\n",
    "data = json.load(f)\n",
    "\n",
    "print(pd.DataFrame(data['tasks']))"
   ]
  },
  {
   "cell_type": "code",
   "execution_count": null,
   "metadata": {},
   "outputs": [],
   "source": [
    "import pandas as pd\n",
    "df = pd.DataFrame(data['jobs'])\n",
    "\n",
    "\n",
    "def tri_jobs(data):\n",
    "    \n"
   ]
  },
  {
   "cell_type": "code",
   "execution_count": 10,
   "metadata": {},
   "outputs": [
    {
     "name": "stdout",
     "output_type": "stream",
     "text": [
      "   job                            sequence  release_date  due_date  weight\n",
      "0    1                  [1, 9, 10, 15, 16]             2         8       6\n",
      "1    2          [2, 8, 14, 18, 20, 22, 24]             1        10       9\n",
      "2    3                          [3, 7, 19]             6         9       3\n",
      "3    4  [4, 6, 11, 12, 13, 17, 21, 23, 25]             5        19      14\n",
      "4    5                                 [5]             9        10       1\n"
     ]
    }
   ],
   "source": [
    "import pandas as pd\n",
    "df = pd.DataFrame(data['jobs'])\n",
    "print(df)\n"
   ]
  }
 ],
 "metadata": {
  "kernelspec": {
   "display_name": "Python 3.11.0 64-bit",
   "language": "python",
   "name": "python3"
  },
  "language_info": {
   "codemirror_mode": {
    "name": "ipython",
    "version": 3
   },
   "file_extension": ".py",
   "mimetype": "text/x-python",
   "name": "python",
   "nbconvert_exporter": "python",
   "pygments_lexer": "ipython3",
   "version": "3.11.0"
  },
  "orig_nbformat": 4,
  "vscode": {
   "interpreter": {
    "hash": "9345dca74d22ccbdc45bdafd3b8626716583d56a8ffede78dcc0d90d0eee57c9"
   }
  }
 },
 "nbformat": 4,
 "nbformat_minor": 2
}
